{
 "cells": [
  {
   "cell_type": "markdown",
   "id": "9930ee51",
   "metadata": {},
   "source": [
    "# Numpy Operations"
   ]
  },
  {
   "cell_type": "code",
   "execution_count": 33,
   "id": "146f9c04",
   "metadata": {},
   "outputs": [],
   "source": [
    "import numpy as np\n"
   ]
  },
  {
   "cell_type": "code",
   "execution_count": 34,
   "id": "eca80d31",
   "metadata": {},
   "outputs": [
    {
     "data": {
      "text/plain": [
       "array([0, 1, 2, 3, 4, 5, 6, 7, 8, 9])"
      ]
     },
     "execution_count": 34,
     "metadata": {},
     "output_type": "execute_result"
    }
   ],
   "source": [
    "arr=np.arange(0,10)\n",
    "arr"
   ]
  },
  {
   "cell_type": "code",
   "execution_count": 35,
   "id": "49188ebc",
   "metadata": {},
   "outputs": [
    {
     "data": {
      "text/plain": [
       "array([ 0,  2,  4,  6,  8, 10, 12, 14, 16, 18])"
      ]
     },
     "execution_count": 35,
     "metadata": {},
     "output_type": "execute_result"
    }
   ],
   "source": [
    "arr+arr"
   ]
  },
  {
   "cell_type": "code",
   "execution_count": 36,
   "id": "d1e8fc15",
   "metadata": {},
   "outputs": [
    {
     "data": {
      "text/plain": [
       "array([ 0,  3,  6,  9, 12, 15, 18, 21, 24, 27])"
      ]
     },
     "execution_count": 36,
     "metadata": {},
     "output_type": "execute_result"
    }
   ],
   "source": [
    "arr*3"
   ]
  },
  {
   "cell_type": "code",
   "execution_count": 37,
   "id": "41791ead",
   "metadata": {},
   "outputs": [
    {
     "data": {
      "text/plain": [
       "array([        1,         1,         4,        27,       256,      3125,\n",
       "           46656,    823543,  16777216, 387420489])"
      ]
     },
     "execution_count": 37,
     "metadata": {},
     "output_type": "execute_result"
    }
   ],
   "source": [
    "arr**arr"
   ]
  },
  {
   "cell_type": "code",
   "execution_count": 38,
   "id": "809a8870",
   "metadata": {},
   "outputs": [
    {
     "name": "stdout",
     "output_type": "stream",
     "text": [
      "[nan  0.  0.  0.  0.  0.  0.  0.  0.  0.]\n"
     ]
    },
    {
     "name": "stderr",
     "output_type": "stream",
     "text": [
      "C:\\Users\\BRYAN\\AppData\\Local\\Temp\\ipykernel_1844\\738647602.py:1: RuntimeWarning: invalid value encountered in divide\n",
      "  print(0/arr)\n"
     ]
    }
   ],
   "source": [
    "print(0/arr)"
   ]
  },
  {
   "cell_type": "code",
   "execution_count": 39,
   "id": "f295b9a8",
   "metadata": {},
   "outputs": [
    {
     "name": "stdout",
     "output_type": "stream",
     "text": [
      "[       inf 1.         0.5        0.33333333 0.25       0.2\n",
      " 0.16666667 0.14285714 0.125      0.11111111]\n"
     ]
    },
    {
     "name": "stderr",
     "output_type": "stream",
     "text": [
      "C:\\Users\\BRYAN\\AppData\\Local\\Temp\\ipykernel_1844\\240748721.py:1: RuntimeWarning: divide by zero encountered in divide\n",
      "  print(1/arr)\n"
     ]
    }
   ],
   "source": [
    "print(1/arr)"
   ]
  },
  {
   "cell_type": "code",
   "execution_count": 40,
   "id": "5b5b43f4",
   "metadata": {},
   "outputs": [
    {
     "name": "stdout",
     "output_type": "stream",
     "text": [
      "[ 0.          0.84147098  0.90929743  0.14112001 -0.7568025  -0.95892427\n",
      " -0.2794155   0.6569866   0.98935825  0.41211849]\n"
     ]
    }
   ],
   "source": [
    "print(np.sin(arr))"
   ]
  },
  {
   "cell_type": "code",
   "execution_count": 41,
   "id": "44a8ee36",
   "metadata": {},
   "outputs": [
    {
     "name": "stdout",
     "output_type": "stream",
     "text": [
      "[      -inf 0.         0.69314718 1.09861229 1.38629436 1.60943791\n",
      " 1.79175947 1.94591015 2.07944154 2.19722458]\n"
     ]
    },
    {
     "name": "stderr",
     "output_type": "stream",
     "text": [
      "C:\\Users\\BRYAN\\AppData\\Local\\Temp\\ipykernel_1844\\873111080.py:1: RuntimeWarning: divide by zero encountered in log\n",
      "  print(np.log(arr))\n"
     ]
    }
   ],
   "source": [
    "print(np.log(arr))"
   ]
  },
  {
   "cell_type": "markdown",
   "id": "f207aeed",
   "metadata": {},
   "source": [
    "# Pandas and its Capabilities in DataFrames"
   ]
  },
  {
   "cell_type": "markdown",
   "id": "17084c40",
   "metadata": {},
   "source": [
    "SERIES"
   ]
  },
  {
   "cell_type": "code",
   "execution_count": null,
   "id": "dce1ccce",
   "metadata": {},
   "outputs": [],
   "source": []
  },
  {
   "cell_type": "markdown",
   "id": "bc449bf7",
   "metadata": {},
   "source": [
    "#Extracting a column\n",
    "df['NAme of column']\n",
    "#Extracting multiple columns\n",
    "df[['Col1,Col2']]\n",
    "``\n"
   ]
  },
  {
   "cell_type": "code",
   "execution_count": 42,
   "id": "ec5298b7",
   "metadata": {},
   "outputs": [],
   "source": [
    "#Create a dataframe\n",
    "import pandas as pd\n",
    "import numpy as np"
   ]
  },
  {
   "cell_type": "code",
   "execution_count": 43,
   "id": "7a950ff8",
   "metadata": {},
   "outputs": [],
   "source": [
    "from numpy.random import randn"
   ]
  },
  {
   "cell_type": "code",
   "execution_count": 44,
   "id": "c72b1d19",
   "metadata": {},
   "outputs": [
    {
     "data": {
      "text/html": [
       "<div>\n",
       "<style scoped>\n",
       "    .dataframe tbody tr th:only-of-type {\n",
       "        vertical-align: middle;\n",
       "    }\n",
       "\n",
       "    .dataframe tbody tr th {\n",
       "        vertical-align: top;\n",
       "    }\n",
       "\n",
       "    .dataframe thead th {\n",
       "        text-align: right;\n",
       "    }\n",
       "</style>\n",
       "<table border=\"1\" class=\"dataframe\">\n",
       "  <thead>\n",
       "    <tr style=\"text-align: right;\">\n",
       "      <th></th>\n",
       "      <th>W</th>\n",
       "      <th>X</th>\n",
       "      <th>Y</th>\n",
       "      <th>Z</th>\n",
       "    </tr>\n",
       "  </thead>\n",
       "  <tbody>\n",
       "    <tr>\n",
       "      <th>A</th>\n",
       "      <td>-0.699828</td>\n",
       "      <td>-1.710455</td>\n",
       "      <td>1.096236</td>\n",
       "      <td>-0.304781</td>\n",
       "    </tr>\n",
       "    <tr>\n",
       "      <th>B</th>\n",
       "      <td>-0.874960</td>\n",
       "      <td>-1.408155</td>\n",
       "      <td>0.213432</td>\n",
       "      <td>-1.574030</td>\n",
       "    </tr>\n",
       "    <tr>\n",
       "      <th>C</th>\n",
       "      <td>0.036245</td>\n",
       "      <td>-1.143095</td>\n",
       "      <td>0.061309</td>\n",
       "      <td>1.103996</td>\n",
       "    </tr>\n",
       "    <tr>\n",
       "      <th>D</th>\n",
       "      <td>0.457121</td>\n",
       "      <td>0.163486</td>\n",
       "      <td>0.539150</td>\n",
       "      <td>0.032720</td>\n",
       "    </tr>\n",
       "    <tr>\n",
       "      <th>E</th>\n",
       "      <td>1.746631</td>\n",
       "      <td>0.077517</td>\n",
       "      <td>-1.991350</td>\n",
       "      <td>-0.017114</td>\n",
       "    </tr>\n",
       "  </tbody>\n",
       "</table>\n",
       "</div>"
      ],
      "text/plain": [
       "          W         X         Y         Z\n",
       "A -0.699828 -1.710455  1.096236 -0.304781\n",
       "B -0.874960 -1.408155  0.213432 -1.574030\n",
       "C  0.036245 -1.143095  0.061309  1.103996\n",
       "D  0.457121  0.163486  0.539150  0.032720\n",
       "E  1.746631  0.077517 -1.991350 -0.017114"
      ]
     },
     "execution_count": 44,
     "metadata": {},
     "output_type": "execute_result"
    }
   ],
   "source": [
    "#Create a simple dataframe\n",
    "df=pd.DataFrame(randn(5,4),['A','B','C','D','E'],['W','X','Y','Z'])\n",
    "df"
   ]
  },
  {
   "cell_type": "markdown",
   "id": "050490f3",
   "metadata": {},
   "source": [
    "# Columns Manipulation\n",
    "\n"
   ]
  },
  {
   "cell_type": "code",
   "execution_count": 45,
   "id": "0bee7d32",
   "metadata": {},
   "outputs": [
    {
     "data": {
      "text/html": [
       "<div>\n",
       "<style scoped>\n",
       "    .dataframe tbody tr th:only-of-type {\n",
       "        vertical-align: middle;\n",
       "    }\n",
       "\n",
       "    .dataframe tbody tr th {\n",
       "        vertical-align: top;\n",
       "    }\n",
       "\n",
       "    .dataframe thead th {\n",
       "        text-align: right;\n",
       "    }\n",
       "</style>\n",
       "<table border=\"1\" class=\"dataframe\">\n",
       "  <thead>\n",
       "    <tr style=\"text-align: right;\">\n",
       "      <th></th>\n",
       "      <th>W</th>\n",
       "      <th>X</th>\n",
       "      <th>Y</th>\n",
       "      <th>Z</th>\n",
       "      <th>New</th>\n",
       "    </tr>\n",
       "  </thead>\n",
       "  <tbody>\n",
       "    <tr>\n",
       "      <th>A</th>\n",
       "      <td>-0.699828</td>\n",
       "      <td>-1.710455</td>\n",
       "      <td>1.096236</td>\n",
       "      <td>-0.304781</td>\n",
       "      <td>0.396408</td>\n",
       "    </tr>\n",
       "    <tr>\n",
       "      <th>B</th>\n",
       "      <td>-0.874960</td>\n",
       "      <td>-1.408155</td>\n",
       "      <td>0.213432</td>\n",
       "      <td>-1.574030</td>\n",
       "      <td>-0.661528</td>\n",
       "    </tr>\n",
       "    <tr>\n",
       "      <th>C</th>\n",
       "      <td>0.036245</td>\n",
       "      <td>-1.143095</td>\n",
       "      <td>0.061309</td>\n",
       "      <td>1.103996</td>\n",
       "      <td>0.097554</td>\n",
       "    </tr>\n",
       "    <tr>\n",
       "      <th>D</th>\n",
       "      <td>0.457121</td>\n",
       "      <td>0.163486</td>\n",
       "      <td>0.539150</td>\n",
       "      <td>0.032720</td>\n",
       "      <td>0.996271</td>\n",
       "    </tr>\n",
       "    <tr>\n",
       "      <th>E</th>\n",
       "      <td>1.746631</td>\n",
       "      <td>0.077517</td>\n",
       "      <td>-1.991350</td>\n",
       "      <td>-0.017114</td>\n",
       "      <td>-0.244719</td>\n",
       "    </tr>\n",
       "  </tbody>\n",
       "</table>\n",
       "</div>"
      ],
      "text/plain": [
       "          W         X         Y         Z       New\n",
       "A -0.699828 -1.710455  1.096236 -0.304781  0.396408\n",
       "B -0.874960 -1.408155  0.213432 -1.574030 -0.661528\n",
       "C  0.036245 -1.143095  0.061309  1.103996  0.097554\n",
       "D  0.457121  0.163486  0.539150  0.032720  0.996271\n",
       "E  1.746631  0.077517 -1.991350 -0.017114 -0.244719"
      ]
     },
     "execution_count": 45,
     "metadata": {},
     "output_type": "execute_result"
    }
   ],
   "source": [
    "df['New']=df['W']+df['Y']\n",
    "df"
   ]
  },
  {
   "cell_type": "code",
   "execution_count": 46,
   "id": "88737c35",
   "metadata": {},
   "outputs": [
    {
     "data": {
      "text/html": [
       "<div>\n",
       "<style scoped>\n",
       "    .dataframe tbody tr th:only-of-type {\n",
       "        vertical-align: middle;\n",
       "    }\n",
       "\n",
       "    .dataframe tbody tr th {\n",
       "        vertical-align: top;\n",
       "    }\n",
       "\n",
       "    .dataframe thead th {\n",
       "        text-align: right;\n",
       "    }\n",
       "</style>\n",
       "<table border=\"1\" class=\"dataframe\">\n",
       "  <thead>\n",
       "    <tr style=\"text-align: right;\">\n",
       "      <th></th>\n",
       "      <th>X</th>\n",
       "      <th>Y</th>\n",
       "      <th>Z</th>\n",
       "      <th>New</th>\n",
       "    </tr>\n",
       "  </thead>\n",
       "  <tbody>\n",
       "    <tr>\n",
       "      <th>A</th>\n",
       "      <td>-1.710455</td>\n",
       "      <td>1.096236</td>\n",
       "      <td>-0.304781</td>\n",
       "      <td>0.396408</td>\n",
       "    </tr>\n",
       "    <tr>\n",
       "      <th>B</th>\n",
       "      <td>-1.408155</td>\n",
       "      <td>0.213432</td>\n",
       "      <td>-1.574030</td>\n",
       "      <td>-0.661528</td>\n",
       "    </tr>\n",
       "    <tr>\n",
       "      <th>C</th>\n",
       "      <td>-1.143095</td>\n",
       "      <td>0.061309</td>\n",
       "      <td>1.103996</td>\n",
       "      <td>0.097554</td>\n",
       "    </tr>\n",
       "    <tr>\n",
       "      <th>D</th>\n",
       "      <td>0.163486</td>\n",
       "      <td>0.539150</td>\n",
       "      <td>0.032720</td>\n",
       "      <td>0.996271</td>\n",
       "    </tr>\n",
       "    <tr>\n",
       "      <th>E</th>\n",
       "      <td>0.077517</td>\n",
       "      <td>-1.991350</td>\n",
       "      <td>-0.017114</td>\n",
       "      <td>-0.244719</td>\n",
       "    </tr>\n",
       "  </tbody>\n",
       "</table>\n",
       "</div>"
      ],
      "text/plain": [
       "          X         Y         Z       New\n",
       "A -1.710455  1.096236 -0.304781  0.396408\n",
       "B -1.408155  0.213432 -1.574030 -0.661528\n",
       "C -1.143095  0.061309  1.103996  0.097554\n",
       "D  0.163486  0.539150  0.032720  0.996271\n",
       "E  0.077517 -1.991350 -0.017114 -0.244719"
      ]
     },
     "execution_count": 46,
     "metadata": {},
     "output_type": "execute_result"
    }
   ],
   "source": [
    "#Dropping a column\n",
    "df.drop('W',axis=1)"
   ]
  },
  {
   "cell_type": "code",
   "execution_count": 47,
   "id": "482ecd2e",
   "metadata": {},
   "outputs": [
    {
     "data": {
      "text/html": [
       "<div>\n",
       "<style scoped>\n",
       "    .dataframe tbody tr th:only-of-type {\n",
       "        vertical-align: middle;\n",
       "    }\n",
       "\n",
       "    .dataframe tbody tr th {\n",
       "        vertical-align: top;\n",
       "    }\n",
       "\n",
       "    .dataframe thead th {\n",
       "        text-align: right;\n",
       "    }\n",
       "</style>\n",
       "<table border=\"1\" class=\"dataframe\">\n",
       "  <thead>\n",
       "    <tr style=\"text-align: right;\">\n",
       "      <th></th>\n",
       "      <th>W</th>\n",
       "      <th>X</th>\n",
       "      <th>Y</th>\n",
       "      <th>Z</th>\n",
       "      <th>New</th>\n",
       "    </tr>\n",
       "  </thead>\n",
       "  <tbody>\n",
       "    <tr>\n",
       "      <th>A</th>\n",
       "      <td>-0.699828</td>\n",
       "      <td>-1.710455</td>\n",
       "      <td>1.096236</td>\n",
       "      <td>-0.304781</td>\n",
       "      <td>0.396408</td>\n",
       "    </tr>\n",
       "    <tr>\n",
       "      <th>B</th>\n",
       "      <td>-0.874960</td>\n",
       "      <td>-1.408155</td>\n",
       "      <td>0.213432</td>\n",
       "      <td>-1.574030</td>\n",
       "      <td>-0.661528</td>\n",
       "    </tr>\n",
       "    <tr>\n",
       "      <th>C</th>\n",
       "      <td>0.036245</td>\n",
       "      <td>-1.143095</td>\n",
       "      <td>0.061309</td>\n",
       "      <td>1.103996</td>\n",
       "      <td>0.097554</td>\n",
       "    </tr>\n",
       "    <tr>\n",
       "      <th>D</th>\n",
       "      <td>0.457121</td>\n",
       "      <td>0.163486</td>\n",
       "      <td>0.539150</td>\n",
       "      <td>0.032720</td>\n",
       "      <td>0.996271</td>\n",
       "    </tr>\n",
       "    <tr>\n",
       "      <th>E</th>\n",
       "      <td>1.746631</td>\n",
       "      <td>0.077517</td>\n",
       "      <td>-1.991350</td>\n",
       "      <td>-0.017114</td>\n",
       "      <td>-0.244719</td>\n",
       "    </tr>\n",
       "  </tbody>\n",
       "</table>\n",
       "</div>"
      ],
      "text/plain": [
       "          W         X         Y         Z       New\n",
       "A -0.699828 -1.710455  1.096236 -0.304781  0.396408\n",
       "B -0.874960 -1.408155  0.213432 -1.574030 -0.661528\n",
       "C  0.036245 -1.143095  0.061309  1.103996  0.097554\n",
       "D  0.457121  0.163486  0.539150  0.032720  0.996271\n",
       "E  1.746631  0.077517 -1.991350 -0.017114 -0.244719"
      ]
     },
     "execution_count": 47,
     "metadata": {},
     "output_type": "execute_result"
    }
   ],
   "source": [
    "df"
   ]
  },
  {
   "cell_type": "code",
   "execution_count": 48,
   "id": "fe637cfa",
   "metadata": {},
   "outputs": [],
   "source": [
    "#dropping a column parmanently\n",
    "df.drop('W',axis=1,inplace=True)"
   ]
  },
  {
   "cell_type": "code",
   "execution_count": 49,
   "id": "a2a8628a",
   "metadata": {},
   "outputs": [
    {
     "data": {
      "text/html": [
       "<div>\n",
       "<style scoped>\n",
       "    .dataframe tbody tr th:only-of-type {\n",
       "        vertical-align: middle;\n",
       "    }\n",
       "\n",
       "    .dataframe tbody tr th {\n",
       "        vertical-align: top;\n",
       "    }\n",
       "\n",
       "    .dataframe thead th {\n",
       "        text-align: right;\n",
       "    }\n",
       "</style>\n",
       "<table border=\"1\" class=\"dataframe\">\n",
       "  <thead>\n",
       "    <tr style=\"text-align: right;\">\n",
       "      <th></th>\n",
       "      <th>X</th>\n",
       "      <th>Y</th>\n",
       "      <th>Z</th>\n",
       "      <th>New</th>\n",
       "    </tr>\n",
       "  </thead>\n",
       "  <tbody>\n",
       "    <tr>\n",
       "      <th>A</th>\n",
       "      <td>-1.710455</td>\n",
       "      <td>1.096236</td>\n",
       "      <td>-0.304781</td>\n",
       "      <td>0.396408</td>\n",
       "    </tr>\n",
       "    <tr>\n",
       "      <th>B</th>\n",
       "      <td>-1.408155</td>\n",
       "      <td>0.213432</td>\n",
       "      <td>-1.574030</td>\n",
       "      <td>-0.661528</td>\n",
       "    </tr>\n",
       "    <tr>\n",
       "      <th>C</th>\n",
       "      <td>-1.143095</td>\n",
       "      <td>0.061309</td>\n",
       "      <td>1.103996</td>\n",
       "      <td>0.097554</td>\n",
       "    </tr>\n",
       "    <tr>\n",
       "      <th>D</th>\n",
       "      <td>0.163486</td>\n",
       "      <td>0.539150</td>\n",
       "      <td>0.032720</td>\n",
       "      <td>0.996271</td>\n",
       "    </tr>\n",
       "    <tr>\n",
       "      <th>E</th>\n",
       "      <td>0.077517</td>\n",
       "      <td>-1.991350</td>\n",
       "      <td>-0.017114</td>\n",
       "      <td>-0.244719</td>\n",
       "    </tr>\n",
       "  </tbody>\n",
       "</table>\n",
       "</div>"
      ],
      "text/plain": [
       "          X         Y         Z       New\n",
       "A -1.710455  1.096236 -0.304781  0.396408\n",
       "B -1.408155  0.213432 -1.574030 -0.661528\n",
       "C -1.143095  0.061309  1.103996  0.097554\n",
       "D  0.163486  0.539150  0.032720  0.996271\n",
       "E  0.077517 -1.991350 -0.017114 -0.244719"
      ]
     },
     "execution_count": 49,
     "metadata": {},
     "output_type": "execute_result"
    }
   ],
   "source": [
    "df"
   ]
  },
  {
   "cell_type": "code",
   "execution_count": 50,
   "id": "027bbe2f",
   "metadata": {},
   "outputs": [],
   "source": [
    "#For Dropping rows, just change the axis name or index"
   ]
  },
  {
   "cell_type": "code",
   "execution_count": 51,
   "id": "27f10222",
   "metadata": {},
   "outputs": [
    {
     "data": {
      "text/plain": [
       "(5, 4)"
      ]
     },
     "execution_count": 51,
     "metadata": {},
     "output_type": "execute_result"
    }
   ],
   "source": [
    "df.shape"
   ]
  },
  {
   "cell_type": "markdown",
   "id": "d0f8a1d8",
   "metadata": {},
   "source": [
    "# Extracting rows\n",
    "You can use \".loc\" when using names for rows or \".iloc\" when using an index  for extraction"
   ]
  },
  {
   "cell_type": "code",
   "execution_count": 52,
   "id": "0d257e9b",
   "metadata": {},
   "outputs": [
    {
     "data": {
      "text/plain": [
       "X     -1.710455\n",
       "Y      1.096236\n",
       "Z     -0.304781\n",
       "New    0.396408\n",
       "Name: A, dtype: float64"
      ]
     },
     "execution_count": 52,
     "metadata": {},
     "output_type": "execute_result"
    }
   ],
   "source": [
    "#Extracting row A\n",
    "df.loc['A']"
   ]
  },
  {
   "cell_type": "code",
   "execution_count": 53,
   "id": "d8861c6f",
   "metadata": {},
   "outputs": [
    {
     "data": {
      "text/plain": [
       "X     -1.710455\n",
       "Y      1.096236\n",
       "Z     -0.304781\n",
       "New    0.396408\n",
       "Name: A, dtype: float64"
      ]
     },
     "execution_count": 53,
     "metadata": {},
     "output_type": "execute_result"
    }
   ],
   "source": [
    "df.iloc[0]"
   ]
  },
  {
   "cell_type": "code",
   "execution_count": 54,
   "id": "00b73345",
   "metadata": {},
   "outputs": [
    {
     "name": "stdout",
     "output_type": "stream",
     "text": [
      "          X         Y         Z       New\n",
      "B -1.408155  0.213432 -1.574030 -0.661528\n",
      "A -1.710455  1.096236 -0.304781  0.396408\n"
     ]
    }
   ],
   "source": [
    "#Extracting rows and columns(Intersection)\n",
    "print(df.loc[['B','A']])"
   ]
  },
  {
   "cell_type": "code",
   "execution_count": 55,
   "id": "eb3a9740",
   "metadata": {},
   "outputs": [
    {
     "data": {
      "text/html": [
       "<div>\n",
       "<style scoped>\n",
       "    .dataframe tbody tr th:only-of-type {\n",
       "        vertical-align: middle;\n",
       "    }\n",
       "\n",
       "    .dataframe tbody tr th {\n",
       "        vertical-align: top;\n",
       "    }\n",
       "\n",
       "    .dataframe thead th {\n",
       "        text-align: right;\n",
       "    }\n",
       "</style>\n",
       "<table border=\"1\" class=\"dataframe\">\n",
       "  <thead>\n",
       "    <tr style=\"text-align: right;\">\n",
       "      <th></th>\n",
       "      <th>Z</th>\n",
       "      <th>Y</th>\n",
       "    </tr>\n",
       "  </thead>\n",
       "  <tbody>\n",
       "    <tr>\n",
       "      <th>A</th>\n",
       "      <td>-0.304781</td>\n",
       "      <td>1.096236</td>\n",
       "    </tr>\n",
       "    <tr>\n",
       "      <th>B</th>\n",
       "      <td>-1.574030</td>\n",
       "      <td>0.213432</td>\n",
       "    </tr>\n",
       "  </tbody>\n",
       "</table>\n",
       "</div>"
      ],
      "text/plain": [
       "          Z         Y\n",
       "A -0.304781  1.096236\n",
       "B -1.574030  0.213432"
      ]
     },
     "execution_count": 55,
     "metadata": {},
     "output_type": "execute_result"
    }
   ],
   "source": [
    "#Extracting the intersection\n",
    "df.loc[['A','B'],['Z','Y']]"
   ]
  },
  {
   "cell_type": "markdown",
   "id": "e922f433",
   "metadata": {},
   "source": [
    "Done."
   ]
  },
  {
   "cell_type": "markdown",
   "id": "4d05f6d8",
   "metadata": {},
   "source": [
    "# Conditional selection."
   ]
  },
  {
   "cell_type": "raw",
   "id": "1f01d309",
   "metadata": {},
   "source": [
    "We will choose data with given conditions."
   ]
  },
  {
   "cell_type": "code",
   "execution_count": 58,
   "id": "fef2ebce",
   "metadata": {},
   "outputs": [],
   "source": [
    "#returns those True values as values and false as NaN\n"
   ]
  },
  {
   "cell_type": "code",
   "execution_count": 59,
   "id": "32635a32",
   "metadata": {},
   "outputs": [
    {
     "data": {
      "text/html": [
       "<div>\n",
       "<style scoped>\n",
       "    .dataframe tbody tr th:only-of-type {\n",
       "        vertical-align: middle;\n",
       "    }\n",
       "\n",
       "    .dataframe tbody tr th {\n",
       "        vertical-align: top;\n",
       "    }\n",
       "\n",
       "    .dataframe thead th {\n",
       "        text-align: right;\n",
       "    }\n",
       "</style>\n",
       "<table border=\"1\" class=\"dataframe\">\n",
       "  <thead>\n",
       "    <tr style=\"text-align: right;\">\n",
       "      <th></th>\n",
       "      <th>X</th>\n",
       "      <th>Y</th>\n",
       "      <th>Z</th>\n",
       "      <th>New</th>\n",
       "    </tr>\n",
       "  </thead>\n",
       "  <tbody>\n",
       "    <tr>\n",
       "      <th>A</th>\n",
       "      <td>NaN</td>\n",
       "      <td>1.096236</td>\n",
       "      <td>NaN</td>\n",
       "      <td>0.396408</td>\n",
       "    </tr>\n",
       "    <tr>\n",
       "      <th>B</th>\n",
       "      <td>NaN</td>\n",
       "      <td>0.213432</td>\n",
       "      <td>NaN</td>\n",
       "      <td>NaN</td>\n",
       "    </tr>\n",
       "    <tr>\n",
       "      <th>C</th>\n",
       "      <td>NaN</td>\n",
       "      <td>0.061309</td>\n",
       "      <td>1.103996</td>\n",
       "      <td>0.097554</td>\n",
       "    </tr>\n",
       "    <tr>\n",
       "      <th>D</th>\n",
       "      <td>0.163486</td>\n",
       "      <td>0.539150</td>\n",
       "      <td>0.032720</td>\n",
       "      <td>0.996271</td>\n",
       "    </tr>\n",
       "    <tr>\n",
       "      <th>E</th>\n",
       "      <td>0.077517</td>\n",
       "      <td>NaN</td>\n",
       "      <td>NaN</td>\n",
       "      <td>NaN</td>\n",
       "    </tr>\n",
       "  </tbody>\n",
       "</table>\n",
       "</div>"
      ],
      "text/plain": [
       "          X         Y         Z       New\n",
       "A       NaN  1.096236       NaN  0.396408\n",
       "B       NaN  0.213432       NaN       NaN\n",
       "C       NaN  0.061309  1.103996  0.097554\n",
       "D  0.163486  0.539150  0.032720  0.996271\n",
       "E  0.077517       NaN       NaN       NaN"
      ]
     },
     "execution_count": 59,
     "metadata": {},
     "output_type": "execute_result"
    }
   ],
   "source": [
    "#return dataframe with values where it is greater than 0 in one line of code without boolean\n",
    "df[df>0]"
   ]
  },
  {
   "cell_type": "code",
   "execution_count": null,
   "id": "c6e71f8a",
   "metadata": {},
   "outputs": [],
   "source": [
    "df"
   ]
  },
  {
   "cell_type": "code",
   "execution_count": 63,
   "id": "b0b05f39",
   "metadata": {},
   "outputs": [
    {
     "data": {
      "text/html": [
       "<div>\n",
       "<style scoped>\n",
       "    .dataframe tbody tr th:only-of-type {\n",
       "        vertical-align: middle;\n",
       "    }\n",
       "\n",
       "    .dataframe tbody tr th {\n",
       "        vertical-align: top;\n",
       "    }\n",
       "\n",
       "    .dataframe thead th {\n",
       "        text-align: right;\n",
       "    }\n",
       "</style>\n",
       "<table border=\"1\" class=\"dataframe\">\n",
       "  <thead>\n",
       "    <tr style=\"text-align: right;\">\n",
       "      <th></th>\n",
       "      <th>X</th>\n",
       "      <th>Y</th>\n",
       "      <th>Z</th>\n",
       "      <th>New</th>\n",
       "    </tr>\n",
       "  </thead>\n",
       "  <tbody>\n",
       "    <tr>\n",
       "      <th>A</th>\n",
       "      <td>-1.710455</td>\n",
       "      <td>1.096236</td>\n",
       "      <td>-0.304781</td>\n",
       "      <td>0.396408</td>\n",
       "    </tr>\n",
       "    <tr>\n",
       "      <th>B</th>\n",
       "      <td>-1.408155</td>\n",
       "      <td>0.213432</td>\n",
       "      <td>-1.574030</td>\n",
       "      <td>-0.661528</td>\n",
       "    </tr>\n",
       "    <tr>\n",
       "      <th>C</th>\n",
       "      <td>-1.143095</td>\n",
       "      <td>0.061309</td>\n",
       "      <td>1.103996</td>\n",
       "      <td>0.097554</td>\n",
       "    </tr>\n",
       "    <tr>\n",
       "      <th>D</th>\n",
       "      <td>0.163486</td>\n",
       "      <td>0.539150</td>\n",
       "      <td>0.032720</td>\n",
       "      <td>0.996271</td>\n",
       "    </tr>\n",
       "  </tbody>\n",
       "</table>\n",
       "</div>"
      ],
      "text/plain": [
       "          X         Y         Z       New\n",
       "A -1.710455  1.096236 -0.304781  0.396408\n",
       "B -1.408155  0.213432 -1.574030 -0.661528\n",
       "C -1.143095  0.061309  1.103996  0.097554\n",
       "D  0.163486  0.539150  0.032720  0.996271"
      ]
     },
     "execution_count": 63,
     "metadata": {},
     "output_type": "execute_result"
    }
   ],
   "source": [
    "#access the column in Y where the values is greater than 0\n",
    "df[df['Y']>0]"
   ]
  },
  {
   "cell_type": "code",
   "execution_count": null,
   "id": "8466267e",
   "metadata": {},
   "outputs": [],
   "source": [
    "#access the column in w where the values is greater than 0 AND RETURN THE X COLUMN\n",
    "df[df['Y']>-0.1]['X']"
   ]
  },
  {
   "cell_type": "code",
   "execution_count": 64,
   "id": "c83f6681",
   "metadata": {},
   "outputs": [
    {
     "data": {
      "text/html": [
       "<div>\n",
       "<style scoped>\n",
       "    .dataframe tbody tr th:only-of-type {\n",
       "        vertical-align: middle;\n",
       "    }\n",
       "\n",
       "    .dataframe tbody tr th {\n",
       "        vertical-align: top;\n",
       "    }\n",
       "\n",
       "    .dataframe thead th {\n",
       "        text-align: right;\n",
       "    }\n",
       "</style>\n",
       "<table border=\"1\" class=\"dataframe\">\n",
       "  <thead>\n",
       "    <tr style=\"text-align: right;\">\n",
       "      <th></th>\n",
       "      <th>X</th>\n",
       "      <th>Y</th>\n",
       "      <th>Z</th>\n",
       "      <th>New</th>\n",
       "    </tr>\n",
       "  </thead>\n",
       "  <tbody>\n",
       "    <tr>\n",
       "      <th>D</th>\n",
       "      <td>0.163486</td>\n",
       "      <td>0.53915</td>\n",
       "      <td>0.03272</td>\n",
       "      <td>0.996271</td>\n",
       "    </tr>\n",
       "  </tbody>\n",
       "</table>\n",
       "</div>"
      ],
      "text/plain": [
       "          X        Y        Z       New\n",
       "D  0.163486  0.53915  0.03272  0.996271"
      ]
     },
     "execution_count": 64,
     "metadata": {},
     "output_type": "execute_result"
    }
   ],
   "source": [
    "#uSING MULTIPLE CONDITIONS to access columns\n",
    "#here, the two conditions are met and returns the values\n",
    "df[(df['Y']>-0.1) & (df['X']>0)]"
   ]
  },
  {
   "cell_type": "code",
   "execution_count": null,
   "id": "5d34011b",
   "metadata": {},
   "outputs": [],
   "source": []
  },
  {
   "cell_type": "markdown",
   "id": "b883e202",
   "metadata": {},
   "source": [
    "# HIERACHY AND MULTIPLE INDEXING"
   ]
  },
  {
   "cell_type": "code",
   "execution_count": 65,
   "id": "674557aa",
   "metadata": {},
   "outputs": [],
   "source": [
    "outside=['G1','G1', 'G1','G2','G2','G2']\n",
    "inside=[1,2,3,1,2,3]\n",
    "hier_index=list(zip(outside,inside))\n",
    "hier_index=pd.MultiIndex.from_tuples(hier_index)"
   ]
  },
  {
   "cell_type": "code",
   "execution_count": 66,
   "id": "09feb177",
   "metadata": {},
   "outputs": [
    {
     "data": {
      "text/plain": [
       "[('G1', 1), ('G1', 2), ('G1', 3), ('G2', 1), ('G2', 2), ('G2', 3)]"
      ]
     },
     "execution_count": 66,
     "metadata": {},
     "output_type": "execute_result"
    }
   ],
   "source": [
    "#creates an index and combines it with associated element\n",
    "list(zip(outside,inside))"
   ]
  },
  {
   "cell_type": "code",
   "execution_count": 67,
   "id": "11686ee6",
   "metadata": {},
   "outputs": [
    {
     "data": {
      "text/html": [
       "<div>\n",
       "<style scoped>\n",
       "    .dataframe tbody tr th:only-of-type {\n",
       "        vertical-align: middle;\n",
       "    }\n",
       "\n",
       "    .dataframe tbody tr th {\n",
       "        vertical-align: top;\n",
       "    }\n",
       "\n",
       "    .dataframe thead th {\n",
       "        text-align: right;\n",
       "    }\n",
       "</style>\n",
       "<table border=\"1\" class=\"dataframe\">\n",
       "  <thead>\n",
       "    <tr style=\"text-align: right;\">\n",
       "      <th></th>\n",
       "      <th></th>\n",
       "      <th>A</th>\n",
       "      <th>B</th>\n",
       "    </tr>\n",
       "  </thead>\n",
       "  <tbody>\n",
       "    <tr>\n",
       "      <th rowspan=\"3\" valign=\"top\">G1</th>\n",
       "      <th>1</th>\n",
       "      <td>-0.820714</td>\n",
       "      <td>-0.192612</td>\n",
       "    </tr>\n",
       "    <tr>\n",
       "      <th>2</th>\n",
       "      <td>-1.191533</td>\n",
       "      <td>0.994911</td>\n",
       "    </tr>\n",
       "    <tr>\n",
       "      <th>3</th>\n",
       "      <td>2.136372</td>\n",
       "      <td>-0.416936</td>\n",
       "    </tr>\n",
       "    <tr>\n",
       "      <th rowspan=\"3\" valign=\"top\">G2</th>\n",
       "      <th>1</th>\n",
       "      <td>0.184954</td>\n",
       "      <td>0.927806</td>\n",
       "    </tr>\n",
       "    <tr>\n",
       "      <th>2</th>\n",
       "      <td>-0.338617</td>\n",
       "      <td>-0.961495</td>\n",
       "    </tr>\n",
       "    <tr>\n",
       "      <th>3</th>\n",
       "      <td>-0.673904</td>\n",
       "      <td>-0.306622</td>\n",
       "    </tr>\n",
       "  </tbody>\n",
       "</table>\n",
       "</div>"
      ],
      "text/plain": [
       "             A         B\n",
       "G1 1 -0.820714 -0.192612\n",
       "   2 -1.191533  0.994911\n",
       "   3  2.136372 -0.416936\n",
       "G2 1  0.184954  0.927806\n",
       "   2 -0.338617 -0.961495\n",
       "   3 -0.673904 -0.306622"
      ]
     },
     "execution_count": 67,
     "metadata": {},
     "output_type": "execute_result"
    }
   ],
   "source": [
    "#create the dataframe\n",
    "df=pd.DataFrame(randn(6,2), hier_index,['A','B'])\n",
    "df\n",
    "#here 6 and 2 represent"
   ]
  },
  {
   "cell_type": "code",
   "execution_count": 68,
   "id": "9b00f8da",
   "metadata": {},
   "outputs": [],
   "source": [
    "#calling datA from the above dataframw"
   ]
  },
  {
   "cell_type": "code",
   "execution_count": 69,
   "id": "3a4a1c70",
   "metadata": {},
   "outputs": [
    {
     "data": {
      "text/html": [
       "<div>\n",
       "<style scoped>\n",
       "    .dataframe tbody tr th:only-of-type {\n",
       "        vertical-align: middle;\n",
       "    }\n",
       "\n",
       "    .dataframe tbody tr th {\n",
       "        vertical-align: top;\n",
       "    }\n",
       "\n",
       "    .dataframe thead th {\n",
       "        text-align: right;\n",
       "    }\n",
       "</style>\n",
       "<table border=\"1\" class=\"dataframe\">\n",
       "  <thead>\n",
       "    <tr style=\"text-align: right;\">\n",
       "      <th></th>\n",
       "      <th>A</th>\n",
       "      <th>B</th>\n",
       "    </tr>\n",
       "  </thead>\n",
       "  <tbody>\n",
       "    <tr>\n",
       "      <th>1</th>\n",
       "      <td>-0.820714</td>\n",
       "      <td>-0.192612</td>\n",
       "    </tr>\n",
       "    <tr>\n",
       "      <th>2</th>\n",
       "      <td>-1.191533</td>\n",
       "      <td>0.994911</td>\n",
       "    </tr>\n",
       "    <tr>\n",
       "      <th>3</th>\n",
       "      <td>2.136372</td>\n",
       "      <td>-0.416936</td>\n",
       "    </tr>\n",
       "  </tbody>\n",
       "</table>\n",
       "</div>"
      ],
      "text/plain": [
       "          A         B\n",
       "1 -0.820714 -0.192612\n",
       "2 -1.191533  0.994911\n",
       "3  2.136372 -0.416936"
      ]
     },
     "execution_count": 69,
     "metadata": {},
     "output_type": "execute_result"
    }
   ],
   "source": [
    "df.loc['G1']"
   ]
  },
  {
   "cell_type": "code",
   "execution_count": 70,
   "id": "729c0557",
   "metadata": {},
   "outputs": [
    {
     "data": {
      "text/plain": [
       "A   -1.191533\n",
       "B    0.994911\n",
       "Name: 2, dtype: float64"
      ]
     },
     "execution_count": 70,
     "metadata": {},
     "output_type": "execute_result"
    }
   ],
   "source": [
    "df.loc['G1'].iloc[1]"
   ]
  },
  {
   "cell_type": "code",
   "execution_count": 71,
   "id": "045b8bb9",
   "metadata": {},
   "outputs": [
    {
     "data": {
      "text/html": [
       "<div>\n",
       "<style scoped>\n",
       "    .dataframe tbody tr th:only-of-type {\n",
       "        vertical-align: middle;\n",
       "    }\n",
       "\n",
       "    .dataframe tbody tr th {\n",
       "        vertical-align: top;\n",
       "    }\n",
       "\n",
       "    .dataframe thead th {\n",
       "        text-align: right;\n",
       "    }\n",
       "</style>\n",
       "<table border=\"1\" class=\"dataframe\">\n",
       "  <thead>\n",
       "    <tr style=\"text-align: right;\">\n",
       "      <th></th>\n",
       "      <th></th>\n",
       "      <th>A</th>\n",
       "      <th>B</th>\n",
       "    </tr>\n",
       "    <tr>\n",
       "      <th>Groups</th>\n",
       "      <th>Level</th>\n",
       "      <th></th>\n",
       "      <th></th>\n",
       "    </tr>\n",
       "  </thead>\n",
       "  <tbody>\n",
       "    <tr>\n",
       "      <th rowspan=\"3\" valign=\"top\">G1</th>\n",
       "      <th>1</th>\n",
       "      <td>-0.820714</td>\n",
       "      <td>-0.192612</td>\n",
       "    </tr>\n",
       "    <tr>\n",
       "      <th>2</th>\n",
       "      <td>-1.191533</td>\n",
       "      <td>0.994911</td>\n",
       "    </tr>\n",
       "    <tr>\n",
       "      <th>3</th>\n",
       "      <td>2.136372</td>\n",
       "      <td>-0.416936</td>\n",
       "    </tr>\n",
       "    <tr>\n",
       "      <th rowspan=\"3\" valign=\"top\">G2</th>\n",
       "      <th>1</th>\n",
       "      <td>0.184954</td>\n",
       "      <td>0.927806</td>\n",
       "    </tr>\n",
       "    <tr>\n",
       "      <th>2</th>\n",
       "      <td>-0.338617</td>\n",
       "      <td>-0.961495</td>\n",
       "    </tr>\n",
       "    <tr>\n",
       "      <th>3</th>\n",
       "      <td>-0.673904</td>\n",
       "      <td>-0.306622</td>\n",
       "    </tr>\n",
       "  </tbody>\n",
       "</table>\n",
       "</div>"
      ],
      "text/plain": [
       "                     A         B\n",
       "Groups Level                    \n",
       "G1     1     -0.820714 -0.192612\n",
       "       2     -1.191533  0.994911\n",
       "       3      2.136372 -0.416936\n",
       "G2     1      0.184954  0.927806\n",
       "       2     -0.338617 -0.961495\n",
       "       3     -0.673904 -0.306622"
      ]
     },
     "execution_count": 71,
     "metadata": {},
     "output_type": "execute_result"
    }
   ],
   "source": [
    "#Assigning the indexes a header- for easy identification\n",
    "df.index.names=['Groups','Level']\n",
    "df"
   ]
  },
  {
   "cell_type": "code",
   "execution_count": 72,
   "id": "4715741c",
   "metadata": {},
   "outputs": [
    {
     "data": {
      "text/plain": [
       "-0.4169355953587189"
      ]
     },
     "execution_count": 72,
     "metadata": {},
     "output_type": "execute_result"
    }
   ],
   "source": [
    "#Accessisng an individual value.-Here we have accessed only one.\n",
    "df.loc['G1'].loc[3]['B']"
   ]
  },
  {
   "cell_type": "code",
   "execution_count": 73,
   "id": "ba1c58dd",
   "metadata": {},
   "outputs": [
    {
     "data": {
      "text/html": [
       "<div>\n",
       "<style scoped>\n",
       "    .dataframe tbody tr th:only-of-type {\n",
       "        vertical-align: middle;\n",
       "    }\n",
       "\n",
       "    .dataframe tbody tr th {\n",
       "        vertical-align: top;\n",
       "    }\n",
       "\n",
       "    .dataframe thead th {\n",
       "        text-align: right;\n",
       "    }\n",
       "</style>\n",
       "<table border=\"1\" class=\"dataframe\">\n",
       "  <thead>\n",
       "    <tr style=\"text-align: right;\">\n",
       "      <th></th>\n",
       "      <th>A</th>\n",
       "      <th>B</th>\n",
       "    </tr>\n",
       "    <tr>\n",
       "      <th>Groups</th>\n",
       "      <th></th>\n",
       "      <th></th>\n",
       "    </tr>\n",
       "  </thead>\n",
       "  <tbody>\n",
       "    <tr>\n",
       "      <th>G1</th>\n",
       "      <td>-0.820714</td>\n",
       "      <td>-0.192612</td>\n",
       "    </tr>\n",
       "    <tr>\n",
       "      <th>G2</th>\n",
       "      <td>0.184954</td>\n",
       "      <td>0.927806</td>\n",
       "    </tr>\n",
       "  </tbody>\n",
       "</table>\n",
       "</div>"
      ],
      "text/plain": [
       "               A         B\n",
       "Groups                    \n",
       "G1     -0.820714 -0.192612\n",
       "G2      0.184954  0.927806"
      ]
     },
     "execution_count": 73,
     "metadata": {},
     "output_type": "execute_result"
    }
   ],
   "source": [
    "#using the cross section function\n",
    "#we access the 1(s) in both Groups\n",
    "#This is useful where its tricky to use loc method.\n",
    "df.xs(1,level='Level')"
   ]
  },
  {
   "cell_type": "code",
   "execution_count": null,
   "id": "dfffeebf",
   "metadata": {},
   "outputs": [],
   "source": []
  },
  {
   "cell_type": "code",
   "execution_count": null,
   "id": "4070bc6c",
   "metadata": {},
   "outputs": [],
   "source": []
  }
 ],
 "metadata": {
  "kernelspec": {
   "display_name": "Python 3 (ipykernel)",
   "language": "python",
   "name": "python3"
  },
  "language_info": {
   "codemirror_mode": {
    "name": "ipython",
    "version": 3
   },
   "file_extension": ".py",
   "mimetype": "text/x-python",
   "name": "python",
   "nbconvert_exporter": "python",
   "pygments_lexer": "ipython3",
   "version": "3.11.5"
  }
 },
 "nbformat": 4,
 "nbformat_minor": 5
}
